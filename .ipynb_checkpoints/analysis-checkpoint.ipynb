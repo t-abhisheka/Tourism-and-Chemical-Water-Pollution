{
 "cells": [
  {
   "cell_type": "markdown",
   "metadata": {},
   "source": [
    "### Vocabulary"
   ]
  },
  {
   "cell_type": "markdown",
   "metadata": {},
   "source": [
    "- csw  = coastal surface water  \n",
    "- cs   = coastal sediment  \n",
    "- cb   = coastal biota  \n",
    "- isw  = inland surface water  \n",
    "- is   = inland sediment  \n",
    "- ib   = inland biota  "
   ]
  },
  {
   "cell_type": "markdown",
   "metadata": {},
   "source": [
    "### Importing data and libries"
   ]
  },
  {
   "cell_type": "code",
   "execution_count": 3,
   "metadata": {},
   "outputs": [],
   "source": [
    "#import libries\n",
    "\n",
    "import pandas as pd\n",
    "import seaborn as sns\n",
    "from scipy import stats\n",
    "import numpy as np\n",
    "from pingouin import kruskal\n"
   ]
  },
  {
   "cell_type": "code",
   "execution_count": 4,
   "metadata": {},
   "outputs": [],
   "source": [
    "#import dataset\n",
    "\n",
    "df_csw = pd.read_excel(\"datasets/coastal_surface_water.xlsx\")\n",
    "df_cs = pd.read_excel(\"datasets/coastal_sediment.xlsx\")\n",
    "df_cb = pd.read_excel(\"datasets/coastal_biota.xlsx\")\n",
    "df_isw = pd.read_excel(\"datasets/inland_surface_water.xlsx\")\n",
    "df_is = pd.read_excel(\"datasets/inland_sediment.xlsx\")\n",
    "df_ib = pd.read_excel(\"datasets/inland_biota.xlsx\")\n"
   ]
  },
  {
   "cell_type": "markdown",
   "metadata": {},
   "source": [
    "### Data cleaning"
   ]
  },
  {
   "cell_type": "code",
   "execution_count": 5,
   "metadata": {},
   "outputs": [],
   "source": [
    "\n",
    "# Remove unit functions \n",
    "\n",
    "def remove_μgL(data):\n",
    "    unit = \" μg/L\"\n",
    "    return data.strip(unit)\n",
    "\n",
    "def remove_μgg1(data):\n",
    "    unit = \" μg/g\"\n",
    "    return data.strip(unit)\n",
    "\n",
    "def remove_μgg2(data):\n",
    "    unit = \" µg/g\"\n",
    "    return data.strip(unit)"
   ]
  },
  {
   "cell_type": "code",
   "execution_count": 6,
   "metadata": {},
   "outputs": [],
   "source": [
    "# Removing units\n",
    "\n",
    "df_csw['Concentration'] = df_csw.Concentration.apply(remove_μgL)\n",
    "df_cs['Concentration'] = df_cs.Concentration.apply(remove_μgg1)\n",
    "df_cb['Concentration'] = df_cb.Concentration.apply(remove_μgg1)\n",
    "df_isw['Concentration'] = df_isw.Concentration.apply(remove_μgL)\n",
    "df_is['Concentration'] = df_is.Concentration.apply(remove_μgg1)\n",
    "df_ib['Concentration'] = df_ib.Concentration.apply(remove_μgg2)"
   ]
  },
  {
   "cell_type": "code",
   "execution_count": 7,
   "metadata": {},
   "outputs": [
    {
     "data": {
      "text/plain": [
       "' print(df_csw)\\nprint(df_cs)\\nprint(df_cb)\\nprint(df_isw)\\nprint(df_is)\\nprint(df_ib) '"
      ]
     },
     "execution_count": 7,
     "metadata": {},
     "output_type": "execute_result"
    }
   ],
   "source": [
    "\"\"\" print(df_csw)\n",
    "print(df_cs)\n",
    "print(df_cb)\n",
    "print(df_isw)\n",
    "print(df_is)\n",
    "print(df_ib) \"\"\""
   ]
  },
  {
   "cell_type": "code",
   "execution_count": 8,
   "metadata": {},
   "outputs": [],
   "source": [
    "\n",
    "# Change column type\n",
    "\n",
    "df_csw['Concentration'] = df_csw['Concentration'].astype(float)\n",
    "df_cs['Concentration'] = df_cs['Concentration'].astype(float)\n",
    "df_cb['Concentration'] = df_cb['Concentration'].astype(float)\n",
    "df_isw['Concentration'] = df_isw['Concentration'].astype(float)\n",
    "df_is['Concentration'] = df_is['Concentration'].astype(float)\n",
    "df_ib['Concentration'] = df_ib['Concentration'].astype(float)"
   ]
  },
  {
   "cell_type": "code",
   "execution_count": 9,
   "metadata": {},
   "outputs": [
    {
     "data": {
      "text/plain": [
       "' print(df_csw)\\nprint(df_cs)\\nprint(df_cb)\\nprint(df_isw)\\nprint(df_is)\\nprint(df_ib) '"
      ]
     },
     "execution_count": 9,
     "metadata": {},
     "output_type": "execute_result"
    }
   ],
   "source": [
    "\"\"\" print(df_csw)\n",
    "print(df_cs)\n",
    "print(df_cb)\n",
    "print(df_isw)\n",
    "print(df_is)\n",
    "print(df_ib) \"\"\""
   ]
  },
  {
   "cell_type": "markdown",
   "metadata": {},
   "source": [
    "### EDA"
   ]
  },
  {
   "cell_type": "code",
   "execution_count": 10,
   "metadata": {},
   "outputs": [
    {
     "name": "stdout",
     "output_type": "stream",
     "text": [
      "duplicates\n",
      "csw : 26\n",
      "cs  : 1\n",
      "cb  : 47\n",
      "isw : 7\n",
      "is  : 0\n",
      "ib  : 1\n"
     ]
    }
   ],
   "source": [
    "\n",
    "# Check for duplicates\n",
    "\n",
    "print(\"duplicates\")\n",
    "print(\"csw :\" , df_csw.duplicated().sum())\n",
    "print(\"cs  :\" , df_cs.duplicated().sum()) \n",
    "print(\"cb  :\" , df_cb.duplicated().sum())\n",
    "print(\"isw :\" , df_isw.duplicated().sum())\n",
    "print(\"is  :\" , df_is.duplicated().sum())\n",
    "print(\"ib  :\" , df_ib.duplicated().sum())"
   ]
  },
  {
   "cell_type": "code",
   "execution_count": 11,
   "metadata": {},
   "outputs": [],
   "source": [
    "# Removing duplicates\n",
    "\n",
    "df_csw.drop_duplicates(inplace=True)\n",
    "df_cs.drop_duplicates(inplace=True)\n",
    "df_cb.drop_duplicates(inplace=True)\n",
    "df_isw.drop_duplicates(inplace=True)\n",
    "df_ib.drop_duplicates(inplace=True)"
   ]
  },
  {
   "cell_type": "code",
   "execution_count": 12,
   "metadata": {},
   "outputs": [
    {
     "data": {
      "text/plain": [
       "' print(\"duplicates\")\\nprint(\"csw :\" , df_csw.duplicated().sum())\\nprint(\"cs  :\" , df_cs.duplicated().sum()) \\nprint(\"cb  :\" , df_cb.duplicated().sum())\\nprint(\"isw :\" , df_isw.duplicated().sum())\\nprint(\"is  :\" , df_is.duplicated().sum())\\nprint(\"ib  :\" , df_ib.duplicated().sum()) '"
      ]
     },
     "execution_count": 12,
     "metadata": {},
     "output_type": "execute_result"
    }
   ],
   "source": [
    "\"\"\" print(\"duplicates\")\n",
    "print(\"csw :\" , df_csw.duplicated().sum())\n",
    "print(\"cs  :\" , df_cs.duplicated().sum()) \n",
    "print(\"cb  :\" , df_cb.duplicated().sum())\n",
    "print(\"isw :\" , df_isw.duplicated().sum())\n",
    "print(\"is  :\" , df_is.duplicated().sum())\n",
    "print(\"ib  :\" , df_ib.duplicated().sum()) \"\"\""
   ]
  },
  {
   "cell_type": "code",
   "execution_count": 13,
   "metadata": {},
   "outputs": [
    {
     "name": "stdout",
     "output_type": "stream",
     "text": [
      "NAs\n",
      "csw\n",
      "Region           9\n",
      "Contaminants     0\n",
      "Concentration    0\n",
      "dtype: int64\n",
      "cs\n",
      "Region           0\n",
      "Contaminants     0\n",
      "Concentration    0\n",
      "dtype: int64\n",
      "cb\n",
      "Region           0\n",
      "Contaminants     0\n",
      "Concentration    0\n",
      "dtype: int64\n",
      "isw\n",
      "Region           0\n",
      "Contaminants     0\n",
      "Concentration    0\n",
      "dtype: int64\n",
      "is\n",
      "Region           0\n",
      "Contaminants     0\n",
      "Concentration    0\n",
      "dtype: int64\n",
      "ib\n",
      "Region           0\n",
      "Contaminants     0\n",
      "Concentration    0\n",
      "dtype: int64\n"
     ]
    }
   ],
   "source": [
    "# Check for null values\n",
    "\n",
    "print(\"NAs\")\n",
    "print(\"csw\")\n",
    "print(df_csw.isnull().sum())\n",
    "print(\"cs\")\n",
    "print(df_cs.isnull().sum())\n",
    "print(\"cb\")\n",
    "print(df_cb.isnull().sum())\n",
    "print(\"isw\")\n",
    "print(df_isw.isnull().sum())\n",
    "print(\"is\")\n",
    "print(df_is.isnull().sum())\n",
    "print(\"ib\")\n",
    "print(df_ib.isnull().sum())"
   ]
  },
  {
   "cell_type": "code",
   "execution_count": 14,
   "metadata": {},
   "outputs": [],
   "source": [
    "# Removing NAs\n",
    "\n",
    "df_csw.dropna(inplace=True)\n",
    "df_cs.dropna(inplace=True)\n",
    "df_cb.dropna(inplace=True)\n",
    "df_isw.dropna(inplace=True)\n",
    "df_ib.dropna(inplace=True)"
   ]
  },
  {
   "cell_type": "code",
   "execution_count": 15,
   "metadata": {},
   "outputs": [
    {
     "data": {
      "text/plain": [
       "' print(\"NAs\")\\nprint(\"csw\")\\nprint(df_csw.isnull().sum())\\nprint(\"cs\")\\nprint(df_cs.isnull().sum())\\nprint(\"cb\")\\nprint(df_cb.isnull().sum())\\nprint(\"isw\")\\nprint(df_isw.isnull().sum())\\nprint(\"is\")\\nprint(df_is.isnull().sum())\\nprint(\"ib\")\\nprint(df_ib.isnull().sum()) '"
      ]
     },
     "execution_count": 15,
     "metadata": {},
     "output_type": "execute_result"
    }
   ],
   "source": [
    "\"\"\" print(\"NAs\")\n",
    "print(\"csw\")\n",
    "print(df_csw.isnull().sum())\n",
    "print(\"cs\")\n",
    "print(df_cs.isnull().sum())\n",
    "print(\"cb\")\n",
    "print(df_cb.isnull().sum())\n",
    "print(\"isw\")\n",
    "print(df_isw.isnull().sum())\n",
    "print(\"is\")\n",
    "print(df_is.isnull().sum())\n",
    "print(\"ib\")\n",
    "print(df_ib.isnull().sum()) \"\"\""
   ]
  },
  {
   "cell_type": "code",
   "execution_count": 16,
   "metadata": {},
   "outputs": [
    {
     "name": "stdout",
     "output_type": "stream",
     "text": [
      "df_csw : (array([478, 479, 480, 481, 482, 492, 625]),)\n",
      "df_cs : (array([ 85, 220, 222]),)\n",
      "df_cb : (array([ 31,  72, 294, 302, 310, 318, 321, 322]),)\n",
      "df_isw : (array([100, 101, 178]),)\n",
      "df_is : (array([7, 8]),)\n",
      "df_ib : (array([43]),)\n"
     ]
    }
   ],
   "source": [
    "# Check for outliers\n",
    "\n",
    "z = np.abs(stats.zscore(df_csw['Concentration']))\n",
    "threshold = 3\n",
    "print(\"df_csw :\",np.where(z > 3))\n",
    "\n",
    "z = np.abs(stats.zscore(df_cs['Concentration']))\n",
    "threshold = 3\n",
    "print(\"df_cs :\",np.where(z > 3))\n",
    "\n",
    "z = np.abs(stats.zscore(df_cb['Concentration']))\n",
    "threshold = 3\n",
    "print(\"df_cb :\",np.where(z > 3))\n",
    "\n",
    "z = np.abs(stats.zscore(df_isw['Concentration']))\n",
    "threshold = 3\n",
    "print(\"df_isw :\",np.where(z > 3))\n",
    "\n",
    "z = np.abs(stats.zscore(df_is['Concentration']))\n",
    "threshold = 3\n",
    "print(\"df_is :\",np.where(z > 3))\n",
    "\n",
    "z = np.abs(stats.zscore(df_ib['Concentration']))\n",
    "threshold = 3\n",
    "print(\"df_ib :\",np.where(z > 3))"
   ]
  },
  {
   "cell_type": "code",
   "execution_count": 17,
   "metadata": {},
   "outputs": [],
   "source": [
    "# Removing outliers\n",
    "\n",
    "df_csw_filtered = df_csw[df_csw['Concentration'] < 478]\n",
    "df_cs_filtered = df_cs[df_cs['Concentration'] < 85]\n",
    "df_cb_filtered = df_cb[df_cb['Concentration'] < 31]\n",
    "df_isw_filtered = df_isw[df_isw['Concentration'] < 100]\n",
    "df_is_filtered = df_is[df_is['Concentration'] < 7]\n",
    "df_ib_filtered = df_ib[df_ib['Concentration'] < 43]"
   ]
  },
  {
   "cell_type": "markdown",
   "metadata": {},
   "source": [
    "### Checking Normality\n",
    "\n",
    "First we have to check wether the data set follows a normal distribution or not. To that we can use Shapiro-Wilk test. \n",
    "\n",
    "Hypothesis of Shapiro-Wilk test are\n",
    "\n",
    "Shapiro-Wilk Test\n",
    "- H₀ : The population from which the sample is drawn follows a normal distribution.\n",
    "- H₁ : The population from which the sample is drawn does not follow a normal distribution.\n"
   ]
  },
  {
   "cell_type": "code",
   "execution_count": 18,
   "metadata": {},
   "outputs": [
    {
     "name": "stdout",
     "output_type": "stream",
     "text": [
      "csw : ShapiroResult(statistic=0.25874900817871094, pvalue=1.1070257868166055e-43)\n",
      "cs : ShapiroResult(statistic=0.4994671940803528, pvalue=1.4910196799080168e-26)\n",
      "cb : ShapiroResult(statistic=0.5931564569473267, pvalue=2.381692237929861e-30)\n",
      "isw : ShapiroResult(statistic=0.5712572932243347, pvalue=4.0107722203457513e-25)\n",
      "is : ShapiroResult(statistic=0.5033602714538574, pvalue=3.216002835673866e-14)\n",
      "ib : ShapiroResult(statistic=0.6832447052001953, pvalue=6.833248988868945e-08)\n"
     ]
    }
   ],
   "source": [
    "\n",
    "print(\"csw :\", shapiro(df_csw_filtered[\"Concentration\"]))\n",
    "print(\"cs :\", shapiro(df_cs_filtered[\"Concentration\"]))\n",
    "print(\"cb :\", shapiro(df_cb_filtered[\"Concentration\"]))\n",
    "print(\"isw :\", shapiro(df_isw_filtered[\"Concentration\"]))\n",
    "print(\"is :\", shapiro(df_is_filtered[\"Concentration\"]))\n",
    "print(\"ib :\", shapiro(df_ib_filtered[\"Concentration\"]))"
   ]
  },
  {
   "cell_type": "markdown",
   "metadata": {},
   "source": [
    "Since all p-value is less than .05, we reject the null hypothesis of the Shapiro-Wilk test.\n",
    "\n",
    "** None of above datasets are not in normal distribution."
   ]
  },
  {
   "cell_type": "markdown",
   "metadata": {},
   "source": [
    "### Statistical Test\n",
    "\n",
    "So we have to go with non parametric tests. Here the suitable test is Kruskal-Wallis test."
   ]
  },
  {
   "cell_type": "markdown",
   "metadata": {},
   "source": [
    "Hypothesis of Kruskal-Wallis test\n",
    "\n",
    "- H₀ : The independent samples all have the same central tendency and therefore come from the same population.\n",
    "- H₁ : At least one of the independent samples does not have the same central tendency as the other samples and therefore originates from a different population."
   ]
  },
  {
   "cell_type": "code",
   "execution_count": 35,
   "metadata": {},
   "outputs": [
    {
     "name": "stdout",
     "output_type": "stream",
     "text": [
      "Region vs Concentration\n",
      "csw\n",
      "         Source  ddof1          H         p-unc\n",
      "Kruskal  Region      4  59.103711  4.475380e-12 \n",
      "\n",
      "cs\n",
      "         Source  ddof1         H         p-unc\n",
      "Kruskal  Region      2  43.86028  2.991309e-10 \n",
      "\n",
      "cb\n",
      "         Source  ddof1          H         p-unc\n",
      "Kruskal  Region      2  43.731934  3.189563e-10 \n",
      "\n",
      "isw\n",
      "         Source  ddof1          H     p-unc\n",
      "Kruskal  Region      3  18.753395  0.000307 \n",
      "\n",
      "is\n",
      "         Source  ddof1        H     p-unc\n",
      "Kruskal  Region      1  2.77906  0.095504 \n",
      "\n",
      "ib\n",
      "         Source  ddof1         H     p-unc\n",
      "Kruskal  Region      1  1.655172  0.198256 \n",
      "\n"
     ]
    }
   ],
   "source": [
    "\n",
    "print(\"Region vs Concentration\")\n",
    "print(\"csw\")\n",
    "print(kruskal(data=df_csw_filtered, dv='Concentration', between='Region'), \"\\n\")\n",
    "print(\"cs\")\n",
    "print(kruskal(data=df_cs_filtered, dv='Concentration', between='Region'), \"\\n\")\n",
    "print(\"cb\")\n",
    "print(kruskal(data=df_cb_filtered, dv='Concentration', between='Region'), \"\\n\")\n",
    "print(\"isw\")\n",
    "print(kruskal(data=df_isw_filtered, dv='Concentration', between='Region'), \"\\n\")\n",
    "print(\"is\")\n",
    "print(kruskal(data=df_is_filtered, dv='Concentration', between='Region'), \"\\n\")\n",
    "print(\"ib\")\n",
    "print(kruskal(data=df_ib_filtered, dv='Concentration', between='Region'), \"\\n\")\n"
   ]
  },
  {
   "cell_type": "code",
   "execution_count": 37,
   "metadata": {},
   "outputs": [
    {
     "name": "stdout",
     "output_type": "stream",
     "text": [
      "Contaminants vs Concentration\n",
      "csw\n",
      "                Source  ddof1           H         p-unc\n",
      "Kruskal  Contaminants     167  303.568703  5.368023e-10 \n",
      "\n",
      "cs\n",
      "                Source  ddof1           H         p-unc\n",
      "Kruskal  Contaminants      93  214.489278  1.358967e-11 \n",
      "\n",
      "cb\n",
      "                Source  ddof1           H         p-unc\n",
      "Kruskal  Contaminants      55  343.839608  2.114419e-43 \n",
      "\n",
      "isw\n",
      "                Source  ddof1           H         p-unc\n",
      "Kruskal  Contaminants     137  240.142718  1.222952e-07 \n",
      "\n",
      "is\n",
      "                Source  ddof1          H     p-unc\n",
      "Kruskal  Contaminants      42  54.077479  0.100206 \n",
      "\n",
      "ib\n",
      "                Source  ddof1          H     p-unc\n",
      "Kruskal  Contaminants       7  24.993162  0.000761 \n",
      "\n"
     ]
    }
   ],
   "source": [
    "\n",
    "print(\"Contaminants vs Concentration\")\n",
    "print(\"csw\")\n",
    "print(kruskal(data=df_csw_filtered, dv='Concentration', between='Contaminants '), \"\\n\")\n",
    "print(\"cs\")\n",
    "print(kruskal(data=df_cs_filtered, dv='Concentration', between='Contaminants '), \"\\n\")\n",
    "print(\"cb\")\n",
    "print(kruskal(data=df_cb_filtered, dv='Concentration', between='Contaminants '), \"\\n\")\n",
    "print(\"isw\")\n",
    "print(kruskal(data=df_isw_filtered, dv='Concentration', between='Contaminants '), \"\\n\")\n",
    "print(\"is\")\n",
    "print(kruskal(data=df_is_filtered, dv='Concentration', between='Contaminants '), \"\\n\")\n",
    "print(\"ib\")\n",
    "print(kruskal(data=df_ib_filtered, dv='Concentration', between='Contaminants '), \"\\n\")\n"
   ]
  },
  {
   "cell_type": "markdown",
   "metadata": {},
   "source": [
    "### Test results\n",
    "\n",
    "Below tables shows the p value of the test results"
   ]
  },
  {
   "cell_type": "markdown",
   "metadata": {},
   "source": [
    "| Dataset |   Vs Region  | Vs Contaminants |\n",
    "|:-------:|:------------:|:---------------:|\n",
    "|   csw   | 4.475380e-12 |    5.368023e-10 |\n",
    "|    cs   | 2.991309e-10 |    1.358967e-11 |\n",
    "|    cb   | 3.189563e-10 |    2.114419e-43 |\n",
    "|   isw   |     0.000307 |    1.222952e-07 |\n",
    "|    is   |     0.095504 |        0.100206 |\n",
    "|    ib   |     0.198256 |        0.000761 |"
   ]
  },
  {
   "cell_type": "markdown",
   "metadata": {},
   "source": [
    "### Result Interpretation"
   ]
  },
  {
   "cell_type": "markdown",
   "metadata": {},
   "source": [
    "If p value of the Kruskal-Wallis test is below than 0.05, we can say that there is a relationship between parameters which was tested.  \n",
    "  \n",
    "\n",
    "With test results we can say that,\n",
    "  \n",
    "1. In ***csw, cs, cb, isw datasets*** there is a relationship between\n",
    "    * region & Concentration\n",
    "    * Contaminants & Concentration  \n",
    "    (But we can't say that there is a relationship between region & Contaminants in those dataset.)  \n",
    "&nbsp;\n",
    "    \n",
    "2. In ***is dataset*** there is a relationship between region & Concentration.  \n",
    "  \n",
    "3. In ***ib dataset*** there is a relationship between Contaminants & Concentration."
   ]
  }
 ],
 "metadata": {
  "kernelspec": {
   "display_name": "Python 3 (ipykernel)",
   "language": "python",
   "name": "python3"
  },
  "language_info": {
   "codemirror_mode": {
    "name": "ipython",
    "version": 3
   },
   "file_extension": ".py",
   "mimetype": "text/x-python",
   "name": "python",
   "nbconvert_exporter": "python",
   "pygments_lexer": "ipython3",
   "version": "3.10.9"
  }
 },
 "nbformat": 4,
 "nbformat_minor": 2
}
